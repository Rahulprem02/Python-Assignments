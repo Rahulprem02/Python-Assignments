{
 "cells": [
  {
   "cell_type": "code",
   "execution_count": null,
   "metadata": {},
   "outputs": [],
   "source": [
    "# Assignment#2\n",
    "\n",
    "#Question#1\n",
    "\n",
    "subject1=int(input(\"Enter marks of the 1ST subject: \"))\n",
    "subject2=int(input(\"Enter marks of the 2ND subject: \"))\n",
    "subject3=int(input(\"Enter marks of the 3RD subject: \"))\n",
    "subject4=int(input(\"Enter marks of the 4TH subject: \"))\n",
    "subject5=int(input(\"Enter marks of the 5TH subject: \"))\n",
    "total=subject1+subject2+subject3+subject4+subject5\n",
    "avg=total/5\n",
    "if(avg>=90):\n",
    "    print(\"Grade: A1\")\n",
    "elif(avg>=80):\n",
    "    print(\"Grade: A\")\n",
    "elif(avg>=70):\n",
    "    print(\"Grade: B\")\n",
    "elif(avg>=60):\n",
    "    print(\"Grade: C\")\n",
    "elif(avg>=50):\n",
    "    print(\"Grade: D\")          \n",
    "else:\n",
    "    print(\"Grade: F\")\n",
    "\n",
    "\n"
   ]
  },
  {
   "cell_type": "code",
   "execution_count": 6,
   "metadata": {},
   "outputs": [
    {
     "name": "stdout",
     "output_type": "stream",
     "text": [
      "Enter the Number: 2\n",
      "2 is EVEN\n"
     ]
    }
   ],
   "source": [
    "#Question#2\n",
    "\n",
    "num = int(input('Enter the Number: '))\n",
    "if num % 2 == 0:\n",
    "    print(num, \"is EVEN\")\n",
    "else:\n",
    "    print(num, \"is ODD\")"
   ]
  },
  {
   "cell_type": "code",
   "execution_count": 7,
   "metadata": {},
   "outputs": [
    {
     "name": "stdout",
     "output_type": "stream",
     "text": [
      "4\n"
     ]
    }
   ],
   "source": [
    "#Question#3\n",
    "\n",
    "list1=[1,2,3,4]\n",
    "print(len(list1))"
   ]
  },
  {
   "cell_type": "code",
   "execution_count": 12,
   "metadata": {},
   "outputs": [
    {
     "name": "stdout",
     "output_type": "stream",
     "text": [
      "21\n"
     ]
    }
   ],
   "source": [
    "#Question#4\n",
    "\n",
    "sum = 0\n",
    "  \n",
    "# creating a list \n",
    "list1 = [1, 2, 7, 8, 3]  \n",
    "  \n",
    "\n",
    "for i in range(0, len(list1)): \n",
    "       sum =sum + list1[i] \n",
    "    \n",
    "print( total)"
   ]
  },
  {
   "cell_type": "code",
   "execution_count": 13,
   "metadata": {},
   "outputs": [
    {
     "name": "stdout",
     "output_type": "stream",
     "text": [
      "8\n"
     ]
    }
   ],
   "source": [
    "#Question#5\n",
    "\n",
    "list1 = [1, 2, 7, 8, 3]  \n",
    "print(max(list1))"
   ]
  },
  {
   "cell_type": "code",
   "execution_count": 20,
   "metadata": {},
   "outputs": [
    {
     "name": "stdout",
     "output_type": "stream",
     "text": [
      "1\n",
      "1\n",
      "2\n",
      "3\n"
     ]
    }
   ],
   "source": [
    "#Question#6\n",
    "\n",
    "list1 = [1,1,2,3,5,8,13,21,34,55,89] \n",
    "\n",
    "for i in list1:\n",
    "    if(i<5):\n",
    "        print(i)\n",
    "    "
   ]
  },
  {
   "cell_type": "code",
   "execution_count": null,
   "metadata": {},
   "outputs": [],
   "source": []
  }
 ],
 "metadata": {
  "kernelspec": {
   "display_name": "Python 3",
   "language": "python",
   "name": "python3"
  },
  "language_info": {
   "codemirror_mode": {
    "name": "ipython",
    "version": 3
   },
   "file_extension": ".py",
   "mimetype": "text/x-python",
   "name": "python",
   "nbconvert_exporter": "python",
   "pygments_lexer": "ipython3",
   "version": "3.7.4"
  }
 },
 "nbformat": 4,
 "nbformat_minor": 2
}
