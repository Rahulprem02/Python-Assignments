{
 "cells": [
  {
   "cell_type": "markdown",
   "metadata": {},
   "source": [
    "# Assignment#3\n"
   ]
  },
  {
   "cell_type": "code",
   "execution_count": 1,
   "metadata": {},
   "outputs": [
    {
     "name": "stdout",
     "output_type": "stream",
     "text": [
      "Please select operation -\n",
      "1. Add\n",
      "2. Subtract\n",
      "3. Multiply\n",
      "4. Divide\n",
      "5. Power\n",
      "\n",
      "Select operations form 1, 2, 3, 4,5 :1\n",
      "Enter first number: 3\n",
      "Enter second number: 4\n",
      "The addition of two numbers are: 7\n"
     ]
    }
   ],
   "source": [
    "\n",
    "#QuestionNo1:\n",
    "\n",
    "print(\"Please select operation -\\n\" \\\n",
    "      \"1. Add\\n\" \\\n",
    "      \"2. Subtract\\n\" \\\n",
    "      \"3. Multiply\\n\" \\\n",
    "      \"4. Divide\\n\"\n",
    "      \"5. Power\\n\")\n",
    "\n",
    "# Take input from the user\n",
    "select = input(\"Select operations form 1, 2, 3, 4,5 :\")\n",
    "\n",
    "number_1 = int(input(\"Enter first number: \"))\n",
    "number_2 = int(input(\"Enter second number: \"))\n",
    "\n",
    "if select == '1':\n",
    "    print(\"The addition of two numbers are:\",number_1+number_2)\n",
    "\n",
    "\n",
    "elif select == '2':\n",
    "\n",
    "    print(\"The subtraction of two numbers are:\",number_1-number_2)\n",
    "elif select == '3':\n",
    "\n",
    "    print(\"The multiplaction of two numbers are:\",number_1*number_2)\n",
    "elif select == '4':\n",
    "\n",
    "    print(\"The division of two numbers are:\",number_2/number_1)\n",
    "elif select == '5':\n",
    "\n",
    "    print( \"The power of two numbers are:\",number_1**number_2)"
   ]
  },
  {
   "cell_type": "code",
   "execution_count": 2,
   "metadata": {},
   "outputs": [
    {
     "name": "stdout",
     "output_type": "stream",
     "text": [
      "Element Exist\n"
     ]
    }
   ],
   "source": [
    "\n",
    "#QuestionNo2:\n",
    "\n",
    "list1=[1,2,3,4,5]\n",
    "for i in list1:\n",
    "    if(i==2):\n",
    "        print(\"Element Exist\")"
   ]
  },
  {
   "cell_type": "code",
   "execution_count": 3,
   "metadata": {},
   "outputs": [
    {
     "name": "stdout",
     "output_type": "stream",
     "text": [
      "{'A': 10, 'B': 20}\n",
      "{'A': 10, 'B': 20, 'C': 30}\n"
     ]
    }
   ],
   "source": [
    "\n",
    "#QuestionNo3:\n",
    "\n",
    "dict = {'A':10, 'B':20}\n",
    "print(dict)\n",
    "dict.update({'C':30})\n",
    "print(dict)"
   ]
  },
  {
   "cell_type": "code",
   "execution_count": 4,
   "metadata": {},
   "outputs": [
    {
     "name": "stdout",
     "output_type": "stream",
     "text": [
      "129\n"
     ]
    }
   ],
   "source": [
    "\n",
    "#QuestionNo4:\n",
    "\n",
    "dict = {'A':109, 'B':20}\n",
    "sum = 0\n",
    "for i in dict:\n",
    "        sum = sum + dict[i]\n",
    "print(sum)"
   ]
  },
  {
   "cell_type": "code",
   "execution_count": 24,
   "metadata": {},
   "outputs": [
    {
     "name": "stdout",
     "output_type": "stream",
     "text": [
      "{40, 10, 50, 20, 30}\n"
     ]
    }
   ],
   "source": [
    "#QuestionNo5:\n",
    "uniq_list = [10, 20, 30, 10, 10, 30, 40, 50, 10, 20, 30, 40, 50]\n",
    "uniq_set = set()\n",
    "for item in uniq_list:\n",
    "    if item not in uniq_set:\n",
    "            uniq_list.append(item)\n",
    "            uniq_set.add(item)\n",
    "print(uniq_set)                "
   ]
  },
  {
   "cell_type": "code",
   "execution_count": 14,
   "metadata": {},
   "outputs": [
    {
     "name": "stdout",
     "output_type": "stream",
     "text": [
      "Present \n",
      "value = 20\n"
     ]
    }
   ],
   "source": [
    "#QuestionNo6:\n",
    "\n",
    "dict = {'A':109, 'B':20}\n",
    "key='B'\n",
    "if key in dict.keys():\n",
    "        print(\"Present \")\n",
    "        print(\"value =\", dict[key])\n"
   ]
  },
  {
   "cell_type": "code",
   "execution_count": null,
   "metadata": {},
   "outputs": [],
   "source": []
  }
 ],
 "metadata": {
  "kernelspec": {
   "display_name": "Python 3",
   "language": "python",
   "name": "python3"
  },
  "language_info": {
   "codemirror_mode": {
    "name": "ipython",
    "version": 3
   },
   "file_extension": ".py",
   "mimetype": "text/x-python",
   "name": "python",
   "nbconvert_exporter": "python",
   "pygments_lexer": "ipython3",
   "version": "3.7.4"
  }
 },
 "nbformat": 4,
 "nbformat_minor": 2
}
